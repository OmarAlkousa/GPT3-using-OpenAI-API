{
  "nbformat": 4,
  "nbformat_minor": 0,
  "metadata": {
    "colab": {
      "provenance": []
    },
    "kernelspec": {
      "name": "python3",
      "display_name": "Python 3"
    },
    "language_info": {
      "name": "python"
    }
  },
  "cells": [
    {
      "cell_type": "markdown",
      "source": [
        "This notebook is to learn how to use OpenAI API for integrating with Chat-GPT."
      ],
      "metadata": {
        "id": "3VzYqX5D8tGk"
      }
    },
    {
      "cell_type": "code",
      "execution_count": 1,
      "metadata": {
        "colab": {
          "base_uri": "https://localhost:8080/"
        },
        "id": "0z1_Yky_lz5B",
        "outputId": "2b2a48b1-4812-4c76-af36-caec77c439ce"
      },
      "outputs": [
        {
          "output_type": "stream",
          "name": "stdout",
          "text": [
            "Looking in indexes: https://pypi.org/simple, https://us-python.pkg.dev/colab-wheels/public/simple/\n",
            "Collecting openai\n",
            "  Downloading openai-0.26.0.tar.gz (54 kB)\n",
            "\u001b[?25l     \u001b[90m━━━━━━━━━━━━━━━━━━━━━━━━━━━━━━━━━━━━━━━━\u001b[0m \u001b[32m0.0/54.7 KB\u001b[0m \u001b[31m?\u001b[0m eta \u001b[36m-:--:--\u001b[0m\r\u001b[2K     \u001b[90m━━━━━━━━━━━━━━━━━━━━━━━━━━━━━━━━━━━━━━━━\u001b[0m \u001b[32m54.7/54.7 KB\u001b[0m \u001b[31m5.7 MB/s\u001b[0m eta \u001b[36m0:00:00\u001b[0m\n",
            "\u001b[?25h  Installing build dependencies ... \u001b[?25l\u001b[?25hdone\n",
            "  Getting requirements to build wheel ... \u001b[?25l\u001b[?25hdone\n",
            "  Preparing metadata (pyproject.toml) ... \u001b[?25l\u001b[?25hdone\n",
            "Requirement already satisfied: requests>=2.20 in /usr/local/lib/python3.8/dist-packages (from openai) (2.25.1)\n",
            "Requirement already satisfied: tqdm in /usr/local/lib/python3.8/dist-packages (from openai) (4.64.1)\n",
            "Requirement already satisfied: aiohttp in /usr/local/lib/python3.8/dist-packages (from openai) (3.8.3)\n",
            "Requirement already satisfied: idna<3,>=2.5 in /usr/local/lib/python3.8/dist-packages (from requests>=2.20->openai) (2.10)\n",
            "Requirement already satisfied: chardet<5,>=3.0.2 in /usr/local/lib/python3.8/dist-packages (from requests>=2.20->openai) (4.0.0)\n",
            "Requirement already satisfied: urllib3<1.27,>=1.21.1 in /usr/local/lib/python3.8/dist-packages (from requests>=2.20->openai) (1.24.3)\n",
            "Requirement already satisfied: certifi>=2017.4.17 in /usr/local/lib/python3.8/dist-packages (from requests>=2.20->openai) (2022.12.7)\n",
            "Requirement already satisfied: multidict<7.0,>=4.5 in /usr/local/lib/python3.8/dist-packages (from aiohttp->openai) (6.0.4)\n",
            "Requirement already satisfied: async-timeout<5.0,>=4.0.0a3 in /usr/local/lib/python3.8/dist-packages (from aiohttp->openai) (4.0.2)\n",
            "Requirement already satisfied: yarl<2.0,>=1.0 in /usr/local/lib/python3.8/dist-packages (from aiohttp->openai) (1.8.2)\n",
            "Requirement already satisfied: frozenlist>=1.1.1 in /usr/local/lib/python3.8/dist-packages (from aiohttp->openai) (1.3.3)\n",
            "Requirement already satisfied: aiosignal>=1.1.2 in /usr/local/lib/python3.8/dist-packages (from aiohttp->openai) (1.3.1)\n",
            "Requirement already satisfied: attrs>=17.3.0 in /usr/local/lib/python3.8/dist-packages (from aiohttp->openai) (22.2.0)\n",
            "Requirement already satisfied: charset-normalizer<3.0,>=2.0 in /usr/local/lib/python3.8/dist-packages (from aiohttp->openai) (2.1.1)\n",
            "Building wheels for collected packages: openai\n",
            "  Building wheel for openai (pyproject.toml) ... \u001b[?25l\u001b[?25hdone\n",
            "  Created wheel for openai: filename=openai-0.26.0-py3-none-any.whl size=66855 sha256=6ddba9850d941030a5d81b9ca0ad0cfb008210b914962fc01293e373d18d7bed\n",
            "  Stored in directory: /root/.cache/pip/wheels/7e/4c/c8/31e9d441bd937e2b9076627465f9db43ab6db40f08aae60b66\n",
            "Successfully built openai\n",
            "Installing collected packages: openai\n",
            "Successfully installed openai-0.26.0\n"
          ]
        }
      ],
      "source": [
        "# Install the required package\n",
        "!pip install openai"
      ]
    },
    {
      "cell_type": "code",
      "source": [
        "# Import the package\n",
        "import openai"
      ],
      "metadata": {
        "id": "mj_szvj5_P04"
      },
      "execution_count": 2,
      "outputs": []
    },
    {
      "cell_type": "markdown",
      "source": [
        "Now that you've installed and imported the required package, you need to set up your environment based on a special API key. First, you have to [**sign up**](https://auth0.openai.com/u/signup/identifier?state=hKFo2SBvSy02UTZIXzJqSm1OREl2UnY5OTljc1haMl9mb21GdKFur3VuaXZlcnNhbC1sb2dpbqN0aWTZIFVyU1BZaDJhOGR0NUlSdU5PSENPOHJpcHVOWU5BRXFpo2NpZNkgRFJpdnNubTJNdTQyVDNLT3BxZHR3QjNOWXZpSFl6d0Q) for OpenAI. After that, refer to the [**API-key generator**](https://beta.openai.com/account/api-keys) to generate your secret api_key. Copy the API-key to paste it as a string in **my_api_key** below.\n",
        "\n",
        "> **Do not share your API key with others, or expose it in the browser or other client-side code.**"
      ],
      "metadata": {
        "id": "Q7pJU4xRBUnP"
      }
    },
    {
      "cell_type": "code",
      "source": [
        "# Paste your api_key\n",
        "my_api_key = \"Paste your api-key here\"\n",
        "# Run the environment based on your api_key\n",
        "openai.api_key = my_api_key"
      ],
      "metadata": {
        "id": "8fSGwoFomIQM"
      },
      "execution_count": 3,
      "outputs": []
    },
    {
      "cell_type": "markdown",
      "source": [
        "Now you're ready to talk with Chat-GPT. We will define a function to make it easier to interact with GPT.\n",
        "\n",
        "The function has three arguments:\n",
        "\n",
        "- **question**: [str, required]\n",
        "\n",
        " You can ask GPT whatever you want here passed as a string. By default, it's set to output a small description about GPT3.\n",
        "\n",
        "- **model_used**: [str, optional]\n",
        "\n",
        " OpenAI offers different models other than the Davinci3 model. With this argument, the users have the flexibility to choose any model.\n",
        "\n",
        "- **answer_length**: [int, optional]\n",
        " \n",
        " To decide the length of the output. It's 265 tokens by default but recommended to increase it in case of long answers.\n",
        "\n",
        "These three arguments refer directly to **prompt**, **model**, and **max_tokens** arguments of Completion, respectively.\n",
        "\n",
        "> You can refer to this [link]() for more information about the arguments you can control with **Completion.create( )**"
      ],
      "metadata": {
        "id": "LCm-gol3E1ir"
      }
    },
    {
      "cell_type": "code",
      "source": [
        "def ask_gpt3(question = \"What is Chat gpt3?\", model_used = \"text-davinci-003\", answer_length = 265):\n",
        "\n",
        "  answer = openai.Completion.create(model = model_used,\n",
        "                                    prompt = question,\n",
        "                                    max_tokens = answer_length,\n",
        "                                    temperature = 0)\n",
        "  \n",
        "  # Printing only the text generated by the model as an answer\n",
        "  print(answer['choices'][0]['text'])"
      ],
      "metadata": {
        "id": "hpG-olXTpFAz"
      },
      "execution_count": 4,
      "outputs": []
    },
    {
      "cell_type": "markdown",
      "source": [
        "Some examples I found interesting and useful. Note that sometimes there are some wrong answers and some provided links are not valid."
      ],
      "metadata": {
        "id": "OOyalDYaEhDv"
      }
    },
    {
      "cell_type": "code",
      "source": [
        "ask_gpt3('top 10 medical imaging processing journals... with impact factor')"
      ],
      "metadata": {
        "colab": {
          "base_uri": "https://localhost:8080/"
        },
        "id": "w1EEdZkLtAjM",
        "outputId": "41850f05-1f73-4376-8aa9-25bbe01d48f6"
      },
      "execution_count": 120,
      "outputs": [
        {
          "output_type": "stream",
          "name": "stdout",
          "text": [
            "\n",
            "\n",
            "1. IEEE Transactions on Medical Imaging (Impact Factor: 5.845)\n",
            "2. Medical Image Analysis (Impact Factor: 5.717)\n",
            "3. IEEE Journal of Biomedical and Health Informatics (Impact Factor: 4.845)\n",
            "4. Computerized Medical Imaging and Graphics (Impact Factor: 4.717)\n",
            "5. Medical Physics (Impact Factor: 4.637)\n",
            "6. Physics in Medicine and Biology (Impact Factor: 4.541)\n",
            "7. International Journal of Computer Assisted Radiology and Surgery (Impact Factor: 4.527)\n",
            "8. Journal of Digital Imaging (Impact Factor: 4.521)\n",
            "9. Medical Image Computing and Computer-Assisted Intervention (Impact Factor: 4.500)\n",
            "10. IEEE Transactions on Biomedical Engineering (Impact Factor: 4.494)\n"
          ]
        }
      ]
    },
    {
      "cell_type": "code",
      "source": [
        "ask_gpt3('matlab code for reading grayscale image')"
      ],
      "metadata": {
        "colab": {
          "base_uri": "https://localhost:8080/"
        },
        "id": "QwaMrWW0vK6E",
        "outputId": "e86babe6-5f82-4636-da6f-f2caa2e61b1c"
      },
      "execution_count": 128,
      "outputs": [
        {
          "output_type": "stream",
          "name": "stdout",
          "text": [
            "\n",
            "\n",
            "% Read the image\n",
            "I = imread('grayscale_image.jpg');\n",
            "\n",
            "% Convert the image to grayscale\n",
            "I_gray = rgb2gray(I);\n",
            "\n",
            "% Display the grayscale image\n",
            "imshow(I_gray);\n"
          ]
        }
      ]
    },
    {
      "cell_type": "code",
      "source": [
        "ask_gpt3('top 10 medical imaging processing researchers... with h-index and profile links', answer_length = 500)"
      ],
      "metadata": {
        "colab": {
          "base_uri": "https://localhost:8080/"
        },
        "id": "7BDAePpry2jm",
        "outputId": "46aec1a9-5ee1-47a6-995b-2434d1d03eab"
      },
      "execution_count": 131,
      "outputs": [
        {
          "output_type": "stream",
          "name": "stdout",
          "text": [
            "\n",
            "\n",
            "1. Michael A. Knopp (h-index: 83) - https://www.radiology.ohio-state.edu/faculty/michael-knopp.html\n",
            "\n",
            "2. Dimitris Metaxas (h-index: 79) - https://www.cs.rutgers.edu/~dnm/\n",
            "\n",
            "3. J. Michael Fitzpatrick (h-index: 77) - https://www.radiology.ucsf.edu/people/j-michael-fitzpatrick\n",
            "\n",
            "4. David A. Jaffray (h-index: 75) - https://www.uhnresearch.ca/researcher/david-jaffray\n",
            "\n",
            "5. Ronald M. Summers (h-index: 74) - https://radiology.nih.gov/about/staff/summers\n",
            "\n",
            "6. Martin J. Graves (h-index: 73) - https://www.rad.washington.edu/people/martin-graves\n",
            "\n",
            "7. Paul M. Parizel (h-index: 72) - https://www.uantwerpen.be/en/staff/paul-parizel/\n",
            "\n",
            "8. David R. Haynor (h-index: 71) - https://www.radiology.ucsf.edu/people/david-haynor\n",
            "\n",
            "9. J. Anthony Parker (h-index: 70) - https://www.radiology.ucsf.edu/people/j-anthony-parker\n",
            "\n",
            "10. David A. Bluemke (h-index: 69) - https://www.radiology.ucsf.edu/people/david-bluemke\n"
          ]
        }
      ]
    },
    {
      "cell_type": "code",
      "source": [
        "ask_gpt3('top 10 biomedical engineering researchers... with h-index and  profile links', answer_length = 500)"
      ],
      "metadata": {
        "colab": {
          "base_uri": "https://localhost:8080/"
        },
        "id": "99IpS39A1km6",
        "outputId": "e6ba6c68-ea58-4209-ae27-80fe5e972d9b"
      },
      "execution_count": 137,
      "outputs": [
        {
          "output_type": "stream",
          "name": "stdout",
          "text": [
            "\n",
            "\n",
            "1. Robert Langer (h-index: 218; profile link: https://scholar.google.com/citations?user=V6VXV-AAAAAJ&hl=en)\n",
            "\n",
            "2. Joseph M. DeSimone (h-index: 166; profile link: https://scholar.google.com/citations?user=V6VXV-AAAAAJ&hl=en)\n",
            "\n",
            "3. George M. Whitesides (h-index: 166; profile link: https://scholar.google.com/citations?user=V6VXV-AAAAAJ&hl=en)\n",
            "\n",
            "4. Donald E. Ingber (h-index: 145; profile link: https://scholar.google.com/citations?user=V6VXV-AAAAAJ&hl=en)\n",
            "\n",
            "5. John A. Rogers (h-index: 144; profile link: https://scholar.google.com/citations?user=V6VXV-AAAAAJ&hl=en)\n",
            "\n",
            "6. Shuichi Takayama (h-index: 140; profile link: https://scholar.google.com/citations?user=V6VXV-AAAAAJ&hl=en)\n",
            "\n",
            "7. Jeffrey M. Karp (h-index: 139; profile link: https://scholar.google.com/citations?user=V6VXV-AAAAAJ&hl=en)\n",
            "\n",
            "8. Ali Khademhosseini (h-index: 137; profile link: https://scholar.google.com/citations?user=V6VXV-AAAAAJ&hl=en)\n",
            "\n",
            "9. Christopher A. Hughes (h-index: 135; profile link: https://scholar.google.com/citations?user=V6VXV-AAAAAJ&hl=en)\n",
            "\n",
            "10. Michael S. Sacks (h-index: 134; profile link: https://scholar.google.com/citations?user=V6VXV-AAAAAJ&hl=en)\n"
          ]
        }
      ]
    },
    {
      "cell_type": "code",
      "source": [
        "ask_gpt3('matlab code to apply median filter on a medical image')"
      ],
      "metadata": {
        "colab": {
          "base_uri": "https://localhost:8080/"
        },
        "id": "l_fMYdot33Ku",
        "outputId": "dede2350-0597-4b0f-d018-6e8a58a1a367"
      },
      "execution_count": 139,
      "outputs": [
        {
          "output_type": "stream",
          "name": "stdout",
          "text": [
            "\n",
            "\n",
            "I = imread('medical_image.jpg'); %read the medical image\n",
            "\n",
            "I_median = medfilt2(I); %apply median filter\n",
            "\n",
            "imshow(I_median); %show the filtered image\n"
          ]
        }
      ]
    },
    {
      "cell_type": "code",
      "source": [
        "ask_gpt3('matlab code to apply a costume filter on a medical image')"
      ],
      "metadata": {
        "colab": {
          "base_uri": "https://localhost:8080/"
        },
        "id": "NUKQxsbm4q5R",
        "outputId": "ddda4704-f93a-42c2-feb7-83c0a6c870a6"
      },
      "execution_count": 140,
      "outputs": [
        {
          "output_type": "stream",
          "name": "stdout",
          "text": [
            "\n",
            "\n",
            "% Read in the medical image\n",
            "I = imread('medical_image.jpg');\n",
            "\n",
            "% Create a custom filter\n",
            "custom_filter = [1 2 1; 2 4 2; 1 2 1];\n",
            "\n",
            "% Apply the custom filter to the medical image\n",
            "filtered_image = imfilter(I, custom_filter);\n",
            "\n",
            "% Display the filtered image\n",
            "imshow(filtered_image);\n"
          ]
        }
      ]
    },
    {
      "cell_type": "code",
      "source": [
        "ask_gpt3('I have 7 sensors in my project. I want to connest each one to a controller and the controllers can connect with each other using its wireless protocol', answer_length = 1500)"
      ],
      "metadata": {
        "colab": {
          "base_uri": "https://localhost:8080/"
        },
        "id": "XQCTzlwG5QwW",
        "outputId": "167e43dc-c56c-4263-96d2-73688dd9a679"
      },
      "execution_count": 146,
      "outputs": [
        {
          "output_type": "stream",
          "name": "stdout",
          "text": [
            ".\n",
            "\n",
            "The best way to do this is to use a wireless mesh network. A wireless mesh network is a type of network that uses multiple nodes (in this case, the controllers) to communicate with each other. Each node is connected to the other nodes in the network, allowing for data to be sent and received between them. This type of network is ideal for connecting multiple sensors to a controller, as it allows for the data from each sensor to be sent to the controller without the need for a physical connection. Additionally, the mesh network can be configured to provide redundancy, meaning that if one node fails, the other nodes can still communicate with each other.\n"
          ]
        }
      ]
    },
    {
      "cell_type": "code",
      "source": [
        "ask_gpt3('esp8266 code to do a wireless mesh network of 6 controllers', answer_length = 2000)"
      ],
      "metadata": {
        "colab": {
          "base_uri": "https://localhost:8080/"
        },
        "id": "XOmf2o2H7r0t",
        "outputId": "4492dbc3-bd52-4c24-e36b-e0b2078642e1"
      },
      "execution_count": 151,
      "outputs": [
        {
          "output_type": "stream",
          "name": "stdout",
          "text": [
            "\n",
            "\n",
            "// Include the necessary libraries\n",
            "#include <ESP8266WiFi.h>\n",
            "#include <WiFiUdp.h>\n",
            "\n",
            "// Set up the WiFi network\n",
            "const char* ssid = \"YourNetworkName\";\n",
            "const char* password = \"YourNetworkPassword\";\n",
            "\n",
            "// Set up the mesh network\n",
            "WiFiUDP udp;\n",
            "IPAddress meshNetworkIP(192, 168, 0, 1);\n",
            "\n",
            "// Set up the controllers\n",
            "IPAddress controller1IP(192, 168, 0, 2);\n",
            "IPAddress controller2IP(192, 168, 0, 3);\n",
            "IPAddress controller3IP(192, 168, 0, 4);\n",
            "IPAddress controller4IP(192, 168, 0, 5);\n",
            "IPAddress controller5IP(192, 168, 0, 6);\n",
            "IPAddress controller6IP(192, 168, 0, 7);\n",
            "\n",
            "// Set up the ports\n",
            "const int controller1Port = 80;\n",
            "const int controller2Port = 81;\n",
            "const int controller3Port = 82;\n",
            "const int controller4Port = 83;\n",
            "const int controller5Port = 84;\n",
            "const int controller6Port = 85;\n",
            "\n",
            "// Set up the message buffer\n",
            "char messageBuffer[256];\n",
            "\n",
            "void setup() {\n",
            "  // Connect to the WiFi network\n",
            "  WiFi.begin(ssid, password);\n",
            "  while (WiFi.status() != WL_CONNECTED) {\n",
            "    delay(500);\n",
            "    Serial.print(\".\");\n",
            "  }\n",
            "  Serial.println(\"\");\n",
            "  Serial.println(\"WiFi connected\");\n",
            "\n",
            "  // Set up the mesh network\n",
            "  udp.beginMulticast(meshNetworkIP, controller1Port);\n",
            "  Serial.println(\"Mesh network set up\");\n",
            "}\n",
            "\n",
            "void loop() {\n",
            "  // Receive messages from the controllers\n",
            "  int packetSize = udp.parsePacket();\n",
            "  if (packetSize) {\n",
            "    int len = udp.read(messageBuffer, 256);\n",
            "    if (len > 0) {\n",
            "      messageBuffer[len] = 0;\n",
            "    }\n",
            "    Serial.println(\"Received message: \" + String(messageBuffer));\n",
            "\n",
            "    // Send the message to the other controllers\n",
            "    udp.beginPacket(controller2IP, controller2Port);\n",
            "    udp.write(messageBuffer);\n",
            "    udp.endPacket();\n",
            "    udp.beginPacket(controller3IP, controller3Port);\n",
            "    udp.write(messageBuffer);\n",
            "    udp.endPacket();\n",
            "    udp.beginPacket(controller4IP, controller4Port);\n",
            "    udp.write(messageBuffer);\n",
            "    udp.endPacket();\n",
            "    udp.beginPacket(controller5IP, controller5Port);\n",
            "    udp.write(messageBuffer);\n",
            "    udp.endPacket();\n",
            "    udp.beginPacket(controller6IP, controller6Port);\n",
            "    udp.write(messageBuffer);\n",
            "    udp.endPacket();\n",
            "  }\n",
            "}\n"
          ]
        }
      ]
    }
  ]
}